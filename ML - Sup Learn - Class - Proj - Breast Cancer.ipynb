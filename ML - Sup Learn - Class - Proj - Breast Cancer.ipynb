{
 "cells": [
  {
   "cell_type": "markdown",
   "id": "c68bfb86",
   "metadata": {},
   "source": [
    "# Breast Cancer Classifier\n",
    "\n",
    "In this project, we will be using several Python libraries to make a K-Nearest Neighbor classifier that is trained to predict whether a patient has breast cancer. "
   ]
  },
  {
   "cell_type": "markdown",
   "id": "8af578cf",
   "metadata": {},
   "source": [
    "1. Let’s begin by importing the breast cancer data from `sklearn`. We want to import the function `load_breast_cancer` from `sklearn.datasets`.\n",
    "\n",
    "    Once we’ve imported the dataset, let’s load the data into a variable called `breast_cancer_data`. Do this by setting `breast_cancer_data` equal to the function `load_breast_cancer()`.\n"
   ]
  },
  {
   "cell_type": "code",
   "execution_count": 1,
   "id": "42fb72dd",
   "metadata": {},
   "outputs": [],
   "source": [
    "from sklearn.datasets import load_breast_cancer\n",
    "breast_cancer_data = load_breast_cancer()"
   ]
  },
  {
   "cell_type": "markdown",
   "id": "ca68a9fc",
   "metadata": {},
   "source": [
    "2. Before jumping into creating our classifier, let’s take a look at the data. Begin by printing `breast_cancer_data.data[0]`. That’s the first datapoint in our set. But what do all of those numbers represent? Let’s also print `breast_cancer_data.feature_names`.\n"
   ]
  },
  {
   "cell_type": "code",
   "execution_count": 3,
   "id": "cc4a8bc8",
   "metadata": {},
   "outputs": [
    {
     "data": {
      "text/plain": [
       "array([1.799e+01, 1.038e+01, 1.228e+02, 1.001e+03, 1.184e-01, 2.776e-01,\n",
       "       3.001e-01, 1.471e-01, 2.419e-01, 7.871e-02, 1.095e+00, 9.053e-01,\n",
       "       8.589e+00, 1.534e+02, 6.399e-03, 4.904e-02, 5.373e-02, 1.587e-02,\n",
       "       3.003e-02, 6.193e-03, 2.538e+01, 1.733e+01, 1.846e+02, 2.019e+03,\n",
       "       1.622e-01, 6.656e-01, 7.119e-01, 2.654e-01, 4.601e-01, 1.189e-01])"
      ]
     },
     "execution_count": 3,
     "metadata": {},
     "output_type": "execute_result"
    }
   ],
   "source": [
    "breast_cancer_data.data[0]"
   ]
  },
  {
   "cell_type": "code",
   "execution_count": 4,
   "id": "00b3d609",
   "metadata": {},
   "outputs": [
    {
     "data": {
      "text/plain": [
       "array(['mean radius', 'mean texture', 'mean perimeter', 'mean area',\n",
       "       'mean smoothness', 'mean compactness', 'mean concavity',\n",
       "       'mean concave points', 'mean symmetry', 'mean fractal dimension',\n",
       "       'radius error', 'texture error', 'perimeter error', 'area error',\n",
       "       'smoothness error', 'compactness error', 'concavity error',\n",
       "       'concave points error', 'symmetry error',\n",
       "       'fractal dimension error', 'worst radius', 'worst texture',\n",
       "       'worst perimeter', 'worst area', 'worst smoothness',\n",
       "       'worst compactness', 'worst concavity', 'worst concave points',\n",
       "       'worst symmetry', 'worst fractal dimension'], dtype='<U23')"
      ]
     },
     "execution_count": 4,
     "metadata": {},
     "output_type": "execute_result"
    }
   ],
   "source": [
    "breast_cancer_data.feature_names"
   ]
  },
  {
   "cell_type": "markdown",
   "id": "21afdc81",
   "metadata": {},
   "source": [
    "3. We now have a sense of what the data looks like, but what are we trying to classify? Let’s print both `breast_cancer_data.target` and `breast_cancer_data.target_names`.\n",
    "\n",
    "    *Was the very first data point tagged as malignant or benign? I guess that it's `array([0,1])` as the answer is the first point is malignant.*"
   ]
  },
  {
   "cell_type": "code",
   "execution_count": 5,
   "id": "da0c0777",
   "metadata": {},
   "outputs": [
    {
     "data": {
      "text/plain": [
       "array([0, 0, 0, 0, 0, 0, 0, 0, 0, 0, 0, 0, 0, 0, 0, 0, 0, 0, 0, 1, 1, 1,\n",
       "       0, 0, 0, 0, 0, 0, 0, 0, 0, 0, 0, 0, 0, 0, 0, 1, 0, 0, 0, 0, 0, 0,\n",
       "       0, 0, 1, 0, 1, 1, 1, 1, 1, 0, 0, 1, 0, 0, 1, 1, 1, 1, 0, 1, 0, 0,\n",
       "       1, 1, 1, 1, 0, 1, 0, 0, 1, 0, 1, 0, 0, 1, 1, 1, 0, 0, 1, 0, 0, 0,\n",
       "       1, 1, 1, 0, 1, 1, 0, 0, 1, 1, 1, 0, 0, 1, 1, 1, 1, 0, 1, 1, 0, 1,\n",
       "       1, 1, 1, 1, 1, 1, 1, 0, 0, 0, 1, 0, 0, 1, 1, 1, 0, 0, 1, 0, 1, 0,\n",
       "       0, 1, 0, 0, 1, 1, 0, 1, 1, 0, 1, 1, 1, 1, 0, 1, 1, 1, 1, 1, 1, 1,\n",
       "       1, 1, 0, 1, 1, 1, 1, 0, 0, 1, 0, 1, 1, 0, 0, 1, 1, 0, 0, 1, 1, 1,\n",
       "       1, 0, 1, 1, 0, 0, 0, 1, 0, 1, 0, 1, 1, 1, 0, 1, 1, 0, 0, 1, 0, 0,\n",
       "       0, 0, 1, 0, 0, 0, 1, 0, 1, 0, 1, 1, 0, 1, 0, 0, 0, 0, 1, 1, 0, 0,\n",
       "       1, 1, 1, 0, 1, 1, 1, 1, 1, 0, 0, 1, 1, 0, 1, 1, 0, 0, 1, 0, 1, 1,\n",
       "       1, 1, 0, 1, 1, 1, 1, 1, 0, 1, 0, 0, 0, 0, 0, 0, 0, 0, 0, 0, 0, 0,\n",
       "       0, 0, 1, 1, 1, 1, 1, 1, 0, 1, 0, 1, 1, 0, 1, 1, 0, 1, 0, 0, 1, 1,\n",
       "       1, 1, 1, 1, 1, 1, 1, 1, 1, 1, 1, 0, 1, 1, 0, 1, 0, 1, 1, 1, 1, 1,\n",
       "       1, 1, 1, 1, 1, 1, 1, 1, 1, 0, 1, 1, 1, 0, 1, 0, 1, 1, 1, 1, 0, 0,\n",
       "       0, 1, 1, 1, 1, 0, 1, 0, 1, 0, 1, 1, 1, 0, 1, 1, 1, 1, 1, 1, 1, 0,\n",
       "       0, 0, 1, 1, 1, 1, 1, 1, 1, 1, 1, 1, 1, 0, 0, 1, 0, 0, 0, 1, 0, 0,\n",
       "       1, 1, 1, 1, 1, 0, 1, 1, 1, 1, 1, 0, 1, 1, 1, 0, 1, 1, 0, 0, 1, 1,\n",
       "       1, 1, 1, 1, 0, 1, 1, 1, 1, 1, 1, 1, 0, 1, 1, 1, 1, 1, 0, 1, 1, 0,\n",
       "       1, 1, 1, 1, 1, 1, 1, 1, 1, 1, 1, 1, 0, 1, 0, 0, 1, 0, 1, 1, 1, 1,\n",
       "       1, 0, 1, 1, 0, 1, 0, 1, 1, 0, 1, 0, 1, 1, 1, 1, 1, 1, 1, 1, 0, 0,\n",
       "       1, 1, 1, 1, 1, 1, 0, 1, 1, 1, 1, 1, 1, 1, 1, 1, 1, 0, 1, 1, 1, 1,\n",
       "       1, 1, 1, 0, 1, 0, 1, 1, 0, 1, 1, 1, 1, 1, 0, 0, 1, 0, 1, 0, 1, 1,\n",
       "       1, 1, 1, 0, 1, 1, 0, 1, 0, 1, 0, 0, 1, 1, 1, 0, 1, 1, 1, 1, 1, 1,\n",
       "       1, 1, 1, 1, 1, 0, 1, 0, 0, 1, 1, 1, 1, 1, 1, 1, 1, 1, 1, 1, 1, 1,\n",
       "       1, 1, 1, 1, 1, 1, 1, 1, 1, 1, 1, 1, 0, 0, 0, 0, 0, 0, 1])"
      ]
     },
     "execution_count": 5,
     "metadata": {},
     "output_type": "execute_result"
    }
   ],
   "source": [
    "breast_cancer_data.target"
   ]
  },
  {
   "cell_type": "code",
   "execution_count": 6,
   "id": "2f36c600",
   "metadata": {},
   "outputs": [
    {
     "data": {
      "text/plain": [
       "array(['malignant', 'benign'], dtype='<U9')"
      ]
     },
     "execution_count": 6,
     "metadata": {},
     "output_type": "execute_result"
    }
   ],
   "source": [
    "breast_cancer_data.target_names"
   ]
  },
  {
   "cell_type": "markdown",
   "id": "6b84ee15",
   "metadata": {},
   "source": [
    "4. We have our data, but now it needs to be split into training and validation sets. Luckily, sklearn has a function that does that for us. Begin by importing the `train_test_split` function from `sklearn.model_selection`."
   ]
  },
  {
   "cell_type": "code",
   "execution_count": 7,
   "id": "3ec05077",
   "metadata": {},
   "outputs": [],
   "source": [
    "from sklearn.model_selection import train_test_split"
   ]
  },
  {
   "cell_type": "markdown",
   "id": "36cf0c4d",
   "metadata": {},
   "source": [
    "5. Call the `train_test_split` function. It takes several parameters:\n",
    "\n",
    "    -    The data you want to split (for us, `breast_cancer_data.data`)\n",
    "    -    The labels associated with that data (for us, `breast_cancer_data.target`).\n",
    "    -    The `test_size`. This is what percentage of your data you want to be in your testing set. Let’s use `test_size = 0.2`\n",
    "    -    `random_state`. This will ensure that every time you run your code, the data is split in the same way. This can be any number. We used `random_state = 100`.\n",
    "    \n",
    "6. Right now we’re not storing the return value of `train_test_split`. `train_test_split` returns four values in the following order:\n",
    "\n",
    "    -    The training set\n",
    "    -    The validation set\n",
    "    -    The training labels\n",
    "    -    The validation labels\n",
    "\n",
    "   Store those values in variables named `training_data`, `validation_data`, `training_labels`, and `validation_labels`.\n"
   ]
  },
  {
   "cell_type": "code",
   "execution_count": 28,
   "id": "d1cb5453",
   "metadata": {},
   "outputs": [],
   "source": [
    "training_data, validation_data, training_labels, validation_labels = train_test_split(breast_cancer_data.data, breast_cancer_data.target, test_size=0.2, random_state=50)"
   ]
  },
  {
   "cell_type": "markdown",
   "id": "4e3afa24",
   "metadata": {},
   "source": [
    "7. Let’s confirm that worked correctly. Print out the length of `training_data` and `training_labels`. They should be the same size - one label for every piece of data!"
   ]
  },
  {
   "cell_type": "code",
   "execution_count": 29,
   "id": "ef49005a",
   "metadata": {},
   "outputs": [
    {
     "name": "stdout",
     "output_type": "stream",
     "text": [
      "455 455\n"
     ]
    }
   ],
   "source": [
    "print(len(training_data), len(training_labels))"
   ]
  },
  {
   "cell_type": "markdown",
   "id": "84f6ac9e",
   "metadata": {},
   "source": [
    "8. Now that we’ve created training and validation sets, we can create a `KNeighborsClassifier` and test its accuracy. Begin by importing `KNeighborsClassifier` from `sklearn.neighbors`."
   ]
  },
  {
   "cell_type": "code",
   "execution_count": 30,
   "id": "3eca3aca",
   "metadata": {},
   "outputs": [],
   "source": [
    "from sklearn.neighbors import KNeighborsClassifier"
   ]
  },
  {
   "cell_type": "markdown",
   "id": "e6bdca26",
   "metadata": {},
   "source": [
    "9. Create a `KNeighborsClassifier` where `n_neighbors = 3`. Name the classifier `classifier`."
   ]
  },
  {
   "cell_type": "code",
   "execution_count": 31,
   "id": "cc0211cc",
   "metadata": {},
   "outputs": [],
   "source": [
    "classifier = KNeighborsClassifier(3)"
   ]
  },
  {
   "cell_type": "markdown",
   "id": "bee6f90c",
   "metadata": {},
   "source": [
    "10. Train your classifier using the `fit` function. This function takes two parameters: the training set and the training labels."
   ]
  },
  {
   "cell_type": "code",
   "execution_count": 32,
   "id": "617e9ed4",
   "metadata": {},
   "outputs": [
    {
     "data": {
      "text/plain": [
       "KNeighborsClassifier(n_neighbors=3)"
      ]
     },
     "execution_count": 32,
     "metadata": {},
     "output_type": "execute_result"
    }
   ],
   "source": [
    "classifier.fit(training_data, training_labels)"
   ]
  },
  {
   "cell_type": "markdown",
   "id": "b9c32df2",
   "metadata": {},
   "source": [
    "11. Now that the classifier has been trained, let’s find how accurate it is on the validation set. Call the classifier’s score function. score takes two parameters: the validation set and the validation labels. Print the result!"
   ]
  },
  {
   "cell_type": "code",
   "execution_count": 33,
   "id": "21e4f9cf",
   "metadata": {},
   "outputs": [
    {
     "data": {
      "text/plain": [
       "0.9122807017543859"
      ]
     },
     "execution_count": 33,
     "metadata": {},
     "output_type": "execute_result"
    }
   ],
   "source": [
    "classifier.score(validation_data, validation_labels)"
   ]
  },
  {
   "cell_type": "markdown",
   "id": "06080a89",
   "metadata": {},
   "source": [
    "12. The classifier does pretty well when `k = 3`. But maybe there’s a better `k`! Put the previous 3 lines of code inside a for loop. The loop should have a variable named `k` that starts at `1` and increases to `100`. Rather than `n_neighbors` always being `3`, it should be this new variable `k`.\n",
    "\n",
    "    You should now see 100 different validation accuracies print out. Which `k` seems the best?\n"
   ]
  },
  {
   "cell_type": "code",
   "execution_count": 34,
   "id": "640778eb",
   "metadata": {
    "scrolled": true
   },
   "outputs": [],
   "source": [
    "accuracies = []\n",
    "for k in range(1, 101):\n",
    "    classifier = KNeighborsClassifier(k)\n",
    "    classifier.fit(training_data, training_labels)\n",
    "    accuracies.append(classifier.score(validation_data, validation_labels))"
   ]
  },
  {
   "cell_type": "markdown",
   "id": "870e5580",
   "metadata": {},
   "source": [
    "13. We now have the validation accuracy for 100 different `k`s. Rather than just printing it out, let’s make a graph using matplotlib. Begin by importing `matplotlib.pyplot` as `plt`."
   ]
  },
  {
   "cell_type": "code",
   "execution_count": 35,
   "id": "e925aac9",
   "metadata": {},
   "outputs": [],
   "source": [
    "import matplotlib.pyplot as plt"
   ]
  },
  {
   "cell_type": "markdown",
   "id": "2f4e2456",
   "metadata": {},
   "source": [
    "14. The x-axis should be the values of k that we tested. This should be a list of numbers between 1 and 100. You can use the range function to make this list. Store it in a variable named `k_list`."
   ]
  },
  {
   "cell_type": "code",
   "execution_count": 36,
   "id": "3ea8171d",
   "metadata": {},
   "outputs": [],
   "source": [
    "k_list = range(1, 101)"
   ]
  },
  {
   "cell_type": "markdown",
   "id": "c9369027",
   "metadata": {},
   "source": [
    "15. The y-axis of our graph should be the validation accuracy. Instead of printing the validation accuracies, we want to add them to a list. Outside of the for loop, create an empty list named `accuracies`. Inside the for loop, instead of printing each accuracy, append it to `accuracies`."
   ]
  },
  {
   "cell_type": "markdown",
   "id": "37f22962",
   "metadata": {},
   "source": [
    "16. We can now plot our data! Call `plt.plot()`. The first parameter should be `k_list` and the second parameter should be `accuracies`.\n",
    "\n",
    "    After plotting the graph, show it using plt.show()."
   ]
  },
  {
   "cell_type": "markdown",
   "id": "28b498d6",
   "metadata": {},
   "source": [
    "17. Let’s add some labels and a title. Set the x-axis label to \"k\" using `plt.xlabel()`. Set the y-axis label to \"Validation Accuracy\". Set the title to \"Breast Cancer Classifier Accuracy\".\n"
   ]
  },
  {
   "cell_type": "code",
   "execution_count": 37,
   "id": "91cc2c3c",
   "metadata": {
    "scrolled": true
   },
   "outputs": [
    {
     "data": {
      "image/png": "[encoded data removed]",
      "text/plain": [
       "<Figure size 432x288 with 1 Axes>"
      ]
     },
     "metadata": {
      "needs_background": "light"
     },
     "output_type": "display_data"
    }
   ],
   "source": [
    "plt.plot(k_list, accuracies)\n",
    "plt.xlabel(\"k\")\n",
    "plt.ylabel(\"Validation Accuracy\")\n",
    "plt.title(\"Breast Cancer Classifier Accuracy\")\n",
    "plt.show()"
   ]
  },
  {
   "cell_type": "markdown",
   "id": "7368494a",
   "metadata": {},
   "source": [
    "18. Great work! If you want to play around with this more, try changing the `random_state` parameter when making the training set and validation set. This will change which points are in the training set and which are in the validation set.\n",
    "\n",
    "    Ideally, the graph will look the same no matter how you split up the training set and test set. This data set is fairly small, so there is slightly more variance than usual."
   ]
  }
 ],
 "metadata": {
  "kernelspec": {
   "display_name": "Python 3 (ipykernel)",
   "language": "python",
   "name": "python3"
  },
  "language_info": {
   "codemirror_mode": {
    "name": "ipython",
    "version": 3
   },
   "file_extension": ".py",
   "mimetype": "text/x-python",
   "name": "python",
   "nbconvert_exporter": "python",
   "pygments_lexer": "ipython3",
   "version": "3.9.7"
  }
 },
 "nbformat": 4,
 "nbformat_minor": 5
}
